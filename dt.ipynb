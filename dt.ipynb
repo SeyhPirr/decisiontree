{
 "cells": [
  {
   "cell_type": "markdown",
   "metadata": {},
   "source": [
    "Eyüphan Seymen 21040101007 Bilgisayar Mühendisliği"
   ]
  },
  {
   "cell_type": "code",
   "execution_count": 2,
   "metadata": {},
   "outputs": [],
   "source": [
    "import pandas as pd\n"
   ]
  },
  {
   "cell_type": "code",
   "execution_count": 3,
   "metadata": {},
   "outputs": [
    {
     "data": {
      "text/html": [
       "<div>\n",
       "<style scoped>\n",
       "    .dataframe tbody tr th:only-of-type {\n",
       "        vertical-align: middle;\n",
       "    }\n",
       "\n",
       "    .dataframe tbody tr th {\n",
       "        vertical-align: top;\n",
       "    }\n",
       "\n",
       "    .dataframe thead th {\n",
       "        text-align: right;\n",
       "    }\n",
       "</style>\n",
       "<table border=\"1\" class=\"dataframe\">\n",
       "  <thead>\n",
       "    <tr style=\"text-align: right;\">\n",
       "      <th></th>\n",
       "      <th>Id</th>\n",
       "      <th>SepalLengthCm</th>\n",
       "      <th>SepalWidthCm</th>\n",
       "      <th>PetalLengthCm</th>\n",
       "      <th>PetalWidthCm</th>\n",
       "      <th>Species</th>\n",
       "    </tr>\n",
       "  </thead>\n",
       "  <tbody>\n",
       "    <tr>\n",
       "      <th>0</th>\n",
       "      <td>1</td>\n",
       "      <td>5.1</td>\n",
       "      <td>3.5</td>\n",
       "      <td>1.4</td>\n",
       "      <td>0.2</td>\n",
       "      <td>Iris-setosa</td>\n",
       "    </tr>\n",
       "    <tr>\n",
       "      <th>1</th>\n",
       "      <td>2</td>\n",
       "      <td>4.9</td>\n",
       "      <td>3.0</td>\n",
       "      <td>1.4</td>\n",
       "      <td>0.2</td>\n",
       "      <td>Iris-setosa</td>\n",
       "    </tr>\n",
       "    <tr>\n",
       "      <th>2</th>\n",
       "      <td>3</td>\n",
       "      <td>4.7</td>\n",
       "      <td>3.2</td>\n",
       "      <td>1.3</td>\n",
       "      <td>0.2</td>\n",
       "      <td>Iris-setosa</td>\n",
       "    </tr>\n",
       "    <tr>\n",
       "      <th>3</th>\n",
       "      <td>4</td>\n",
       "      <td>4.6</td>\n",
       "      <td>3.1</td>\n",
       "      <td>1.5</td>\n",
       "      <td>0.2</td>\n",
       "      <td>Iris-setosa</td>\n",
       "    </tr>\n",
       "    <tr>\n",
       "      <th>4</th>\n",
       "      <td>5</td>\n",
       "      <td>5.0</td>\n",
       "      <td>3.6</td>\n",
       "      <td>1.4</td>\n",
       "      <td>0.2</td>\n",
       "      <td>Iris-setosa</td>\n",
       "    </tr>\n",
       "    <tr>\n",
       "      <th>...</th>\n",
       "      <td>...</td>\n",
       "      <td>...</td>\n",
       "      <td>...</td>\n",
       "      <td>...</td>\n",
       "      <td>...</td>\n",
       "      <td>...</td>\n",
       "    </tr>\n",
       "    <tr>\n",
       "      <th>145</th>\n",
       "      <td>146</td>\n",
       "      <td>6.7</td>\n",
       "      <td>3.0</td>\n",
       "      <td>5.2</td>\n",
       "      <td>2.3</td>\n",
       "      <td>Iris-virginica</td>\n",
       "    </tr>\n",
       "    <tr>\n",
       "      <th>146</th>\n",
       "      <td>147</td>\n",
       "      <td>6.3</td>\n",
       "      <td>2.5</td>\n",
       "      <td>5.0</td>\n",
       "      <td>1.9</td>\n",
       "      <td>Iris-virginica</td>\n",
       "    </tr>\n",
       "    <tr>\n",
       "      <th>147</th>\n",
       "      <td>148</td>\n",
       "      <td>6.5</td>\n",
       "      <td>3.0</td>\n",
       "      <td>5.2</td>\n",
       "      <td>2.0</td>\n",
       "      <td>Iris-virginica</td>\n",
       "    </tr>\n",
       "    <tr>\n",
       "      <th>148</th>\n",
       "      <td>149</td>\n",
       "      <td>6.2</td>\n",
       "      <td>3.4</td>\n",
       "      <td>5.4</td>\n",
       "      <td>2.3</td>\n",
       "      <td>Iris-virginica</td>\n",
       "    </tr>\n",
       "    <tr>\n",
       "      <th>149</th>\n",
       "      <td>150</td>\n",
       "      <td>5.9</td>\n",
       "      <td>3.0</td>\n",
       "      <td>5.1</td>\n",
       "      <td>1.8</td>\n",
       "      <td>Iris-virginica</td>\n",
       "    </tr>\n",
       "  </tbody>\n",
       "</table>\n",
       "<p>150 rows × 6 columns</p>\n",
       "</div>"
      ],
      "text/plain": [
       "      Id  SepalLengthCm  SepalWidthCm  PetalLengthCm  PetalWidthCm  \\\n",
       "0      1            5.1           3.5            1.4           0.2   \n",
       "1      2            4.9           3.0            1.4           0.2   \n",
       "2      3            4.7           3.2            1.3           0.2   \n",
       "3      4            4.6           3.1            1.5           0.2   \n",
       "4      5            5.0           3.6            1.4           0.2   \n",
       "..   ...            ...           ...            ...           ...   \n",
       "145  146            6.7           3.0            5.2           2.3   \n",
       "146  147            6.3           2.5            5.0           1.9   \n",
       "147  148            6.5           3.0            5.2           2.0   \n",
       "148  149            6.2           3.4            5.4           2.3   \n",
       "149  150            5.9           3.0            5.1           1.8   \n",
       "\n",
       "            Species  \n",
       "0       Iris-setosa  \n",
       "1       Iris-setosa  \n",
       "2       Iris-setosa  \n",
       "3       Iris-setosa  \n",
       "4       Iris-setosa  \n",
       "..              ...  \n",
       "145  Iris-virginica  \n",
       "146  Iris-virginica  \n",
       "147  Iris-virginica  \n",
       "148  Iris-virginica  \n",
       "149  Iris-virginica  \n",
       "\n",
       "[150 rows x 6 columns]"
      ]
     },
     "execution_count": 3,
     "metadata": {},
     "output_type": "execute_result"
    }
   ],
   "source": [
    "df = pd.read_csv(\"iris.csv\")\n",
    "converted_data = df.values.tolist()  \n",
    "head_labels = df.columns.tolist()\n",
    "\n",
    "df"
   ]
  },
  {
   "cell_type": "code",
   "execution_count": 4,
   "metadata": {},
   "outputs": [],
   "source": [
    "def unique_vals(rows, col):\n",
    "    return set([row[col] for row in rows])"
   ]
  },
  {
   "cell_type": "code",
   "execution_count": 5,
   "metadata": {},
   "outputs": [
    {
     "data": {
      "text/plain": [
       "{'Iris-setosa', 'Iris-versicolor', 'Iris-virginica'}"
      ]
     },
     "execution_count": 5,
     "metadata": {},
     "output_type": "execute_result"
    }
   ],
   "source": [
    "unique_vals(converted_data, -1)"
   ]
  },
  {
   "cell_type": "code",
   "execution_count": 6,
   "metadata": {},
   "outputs": [],
   "source": [
    "def class_counts(rows):\n",
    "   \n",
    "    counts = {} \n",
    "    for row in rows:\n",
    "        label = row[-1]\n",
    "        if label not in counts:\n",
    "            counts[label] = 0\n",
    "        counts[label] += 1\n",
    "    return counts"
   ]
  },
  {
   "cell_type": "code",
   "execution_count": 7,
   "metadata": {},
   "outputs": [
    {
     "data": {
      "text/plain": [
       "{'Iris-setosa': 50, 'Iris-versicolor': 50, 'Iris-virginica': 50}"
      ]
     },
     "execution_count": 7,
     "metadata": {},
     "output_type": "execute_result"
    }
   ],
   "source": [
    "class_counts(converted_data)"
   ]
  },
  {
   "cell_type": "code",
   "execution_count": 8,
   "metadata": {},
   "outputs": [],
   "source": [
    "def is_numeric(value):\n",
    "    return isinstance(value, int) or isinstance(value, float)"
   ]
  },
  {
   "cell_type": "code",
   "execution_count": 114,
   "metadata": {},
   "outputs": [
    {
     "data": {
      "text/plain": [
       "True"
      ]
     },
     "execution_count": 114,
     "metadata": {},
     "output_type": "execute_result"
    }
   ],
   "source": [
    "is_numeric(7)\n"
   ]
  },
  {
   "cell_type": "code",
   "execution_count": 9,
   "metadata": {},
   "outputs": [],
   "source": [
    "class Question:\n",
    "  \n",
    "\n",
    "    def __init__(self, column, value):\n",
    "        self.column = column\n",
    "        self.value = value\n",
    "\n",
    "    def match(self, example):\n",
    "       \n",
    "        val = example[self.column]\n",
    "        if is_numeric(val):\n",
    "            return val >= self.value\n",
    "        else:\n",
    "            return val == self.value\n",
    "\n",
    "    def __repr__(self):\n",
    "       \n",
    "        condition = \"==\"\n",
    "        if is_numeric(self.value):\n",
    "            condition = \">=\"\n",
    "        return \"Is %s %s %s?\" % (\n",
    "            head_labels[self.column], condition, str(self.value))"
   ]
  },
  {
   "cell_type": "code",
   "execution_count": 10,
   "metadata": {},
   "outputs": [
    {
     "data": {
      "text/plain": [
       "Is Species == Iris-setosa?"
      ]
     },
     "execution_count": 10,
     "metadata": {},
     "output_type": "execute_result"
    }
   ],
   "source": [
    "Question(-1, \"Iris-setosa\")\n"
   ]
  },
  {
   "cell_type": "code",
   "execution_count": 11,
   "metadata": {},
   "outputs": [],
   "source": [
    "def partition(rows, question):\n",
    "   \n",
    "    true_rows, false_rows = [], []\n",
    "    for row in rows:\n",
    "        if question.match(row):\n",
    "            true_rows.append(row)\n",
    "        else:\n",
    "            false_rows.append(row)\n",
    "    return true_rows, false_rows"
   ]
  },
  {
   "cell_type": "code",
   "execution_count": 13,
   "metadata": {},
   "outputs": [
    {
     "data": {
      "text/plain": [
       "[[1, 5.1, 3.5, 1.4, 0.2, 'Iris-setosa'],\n",
       " [2, 4.9, 3.0, 1.4, 0.2, 'Iris-setosa'],\n",
       " [3, 4.7, 3.2, 1.3, 0.2, 'Iris-setosa'],\n",
       " [4, 4.6, 3.1, 1.5, 0.2, 'Iris-setosa'],\n",
       " [5, 5.0, 3.6, 1.4, 0.2, 'Iris-setosa'],\n",
       " [6, 5.4, 3.9, 1.7, 0.4, 'Iris-setosa'],\n",
       " [7, 4.6, 3.4, 1.4, 0.3, 'Iris-setosa'],\n",
       " [8, 5.0, 3.4, 1.5, 0.2, 'Iris-setosa'],\n",
       " [9, 4.4, 2.9, 1.4, 0.2, 'Iris-setosa'],\n",
       " [10, 4.9, 3.1, 1.5, 0.1, 'Iris-setosa'],\n",
       " [11, 5.4, 3.7, 1.5, 0.2, 'Iris-setosa'],\n",
       " [12, 4.8, 3.4, 1.6, 0.2, 'Iris-setosa'],\n",
       " [13, 4.8, 3.0, 1.4, 0.1, 'Iris-setosa'],\n",
       " [14, 4.3, 3.0, 1.1, 0.1, 'Iris-setosa'],\n",
       " [15, 5.8, 4.0, 1.2, 0.2, 'Iris-setosa'],\n",
       " [16, 5.7, 4.4, 1.5, 0.4, 'Iris-setosa'],\n",
       " [17, 5.4, 3.9, 1.3, 0.4, 'Iris-setosa'],\n",
       " [18, 5.1, 3.5, 1.4, 0.3, 'Iris-setosa'],\n",
       " [19, 5.7, 3.8, 1.7, 0.3, 'Iris-setosa'],\n",
       " [20, 5.1, 3.8, 1.5, 0.3, 'Iris-setosa'],\n",
       " [21, 5.4, 3.4, 1.7, 0.2, 'Iris-setosa'],\n",
       " [22, 5.1, 3.7, 1.5, 0.4, 'Iris-setosa'],\n",
       " [23, 4.6, 3.6, 1.0, 0.2, 'Iris-setosa'],\n",
       " [24, 5.1, 3.3, 1.7, 0.5, 'Iris-setosa'],\n",
       " [25, 4.8, 3.4, 1.9, 0.2, 'Iris-setosa'],\n",
       " [26, 5.0, 3.0, 1.6, 0.2, 'Iris-setosa'],\n",
       " [27, 5.0, 3.4, 1.6, 0.4, 'Iris-setosa'],\n",
       " [28, 5.2, 3.5, 1.5, 0.2, 'Iris-setosa'],\n",
       " [29, 5.2, 3.4, 1.4, 0.2, 'Iris-setosa'],\n",
       " [30, 4.7, 3.2, 1.6, 0.2, 'Iris-setosa'],\n",
       " [31, 4.8, 3.1, 1.6, 0.2, 'Iris-setosa'],\n",
       " [32, 5.4, 3.4, 1.5, 0.4, 'Iris-setosa'],\n",
       " [33, 5.2, 4.1, 1.5, 0.1, 'Iris-setosa'],\n",
       " [34, 5.5, 4.2, 1.4, 0.2, 'Iris-setosa'],\n",
       " [35, 4.9, 3.1, 1.5, 0.1, 'Iris-setosa'],\n",
       " [36, 5.0, 3.2, 1.2, 0.2, 'Iris-setosa'],\n",
       " [37, 5.5, 3.5, 1.3, 0.2, 'Iris-setosa'],\n",
       " [38, 4.9, 3.1, 1.5, 0.1, 'Iris-setosa'],\n",
       " [39, 4.4, 3.0, 1.3, 0.2, 'Iris-setosa'],\n",
       " [40, 5.1, 3.4, 1.5, 0.2, 'Iris-setosa'],\n",
       " [41, 5.0, 3.5, 1.3, 0.3, 'Iris-setosa'],\n",
       " [42, 4.5, 2.3, 1.3, 0.3, 'Iris-setosa'],\n",
       " [43, 4.4, 3.2, 1.3, 0.2, 'Iris-setosa'],\n",
       " [44, 5.0, 3.5, 1.6, 0.6, 'Iris-setosa'],\n",
       " [45, 5.1, 3.8, 1.9, 0.4, 'Iris-setosa'],\n",
       " [46, 4.8, 3.0, 1.4, 0.3, 'Iris-setosa'],\n",
       " [47, 5.1, 3.8, 1.6, 0.2, 'Iris-setosa'],\n",
       " [48, 4.6, 3.2, 1.4, 0.2, 'Iris-setosa'],\n",
       " [49, 5.3, 3.7, 1.5, 0.2, 'Iris-setosa'],\n",
       " [50, 5.0, 3.3, 1.4, 0.2, 'Iris-setosa']]"
      ]
     },
     "execution_count": 13,
     "metadata": {},
     "output_type": "execute_result"
    }
   ],
   "source": [
    "true_rows,false_rows=partition(converted_data,Question(-1,\"Iris-setosa\"))\n",
    "\n",
    "true_rows"
   ]
  },
  {
   "cell_type": "code",
   "execution_count": 14,
   "metadata": {},
   "outputs": [],
   "source": [
    "\n",
    "class Decision_Node:\n",
    "    \n",
    "\n",
    "    def __init__(self,\n",
    "                 question,\n",
    "                 true_branch,\n",
    "                 false_branch):\n",
    "        self.question = question\n",
    "        self.true_branch = true_branch\n",
    "        self.false_branch = false_branch"
   ]
  },
  {
   "cell_type": "code",
   "execution_count": 15,
   "metadata": {},
   "outputs": [],
   "source": [
    "def gini(rows):\n",
    " # impurity hesaplama\n",
    "    counts = class_counts(rows)\n",
    "    impurity = 1\n",
    "    for lbl in counts:\n",
    "        prob_of_lbl = counts[lbl] / float(len(rows))\n",
    "        impurity -= prob_of_lbl**2\n",
    "    return impurity"
   ]
  },
  {
   "cell_type": "code",
   "execution_count": 16,
   "metadata": {},
   "outputs": [],
   "source": [
    "def info_gain(left, right, current_uncertainty):\n",
    "    # kazanilan info hesaplama\n",
    "    p = float(len(left)) / (len(left) + len(right))\n",
    "    return current_uncertainty - p * gini(left) - (1 - p) * gini(right)"
   ]
  },
  {
   "cell_type": "code",
   "execution_count": 18,
   "metadata": {},
   "outputs": [],
   "source": [
    "def find_best_split(rows):\n",
    "   \n",
    "    best_gain = 0  \n",
    "    best_question = None  \n",
    "    current_uncertainty = gini(rows)\n",
    "    n_features = len(rows[0]) - 1  \n",
    "\n",
    "    for col in range(n_features): \n",
    "\n",
    "        values = set([row[col] for row in rows]) \n",
    "\n",
    "        for val in values:  \n",
    "\n",
    "            question = Question(col, val)\n",
    "\n",
    "            \n",
    "            true_rows, false_rows = partition(rows, question)\n",
    "\n",
    "           \n",
    "            if len(true_rows) == 0 or len(false_rows) == 0:\n",
    "                continue\n",
    "\n",
    "           \n",
    "            gain = info_gain(true_rows, false_rows, current_uncertainty)\n",
    "\n",
    "           \n",
    "            if gain >= best_gain:\n",
    "                best_gain, best_question = gain, question\n",
    "\n",
    "    return best_gain, best_question"
   ]
  },
  {
   "cell_type": "code",
   "execution_count": 19,
   "metadata": {},
   "outputs": [],
   "source": [
    "class Leaf:\n",
    "   \n",
    "    def __init__(self, rows):\n",
    "        self.predictions = class_counts(rows)"
   ]
  },
  {
   "cell_type": "code",
   "execution_count": 20,
   "metadata": {},
   "outputs": [],
   "source": [
    "def build_tree(rows):\n",
    "   \n",
    "\n",
    "    \n",
    "    gain, question = find_best_split(rows)\n",
    "\n",
    "   \n",
    "    if gain == 0:\n",
    "        return Leaf(rows)\n",
    "\n",
    "   \n",
    "    true_rows, false_rows = partition(rows, question)\n",
    "\n",
    "    \n",
    "    true_branch = build_tree(true_rows)\n",
    "\n",
    "   \n",
    "    false_branch = build_tree(false_rows)\n",
    "\n",
    "   \n",
    "    return Decision_Node(question, true_branch, false_branch)"
   ]
  },
  {
   "cell_type": "code",
   "execution_count": 21,
   "metadata": {},
   "outputs": [],
   "source": [
    "def print_tree(node, spacing=\"\"):\n",
    "    \n",
    "\n",
    "  \n",
    "    if isinstance(node, Leaf):\n",
    "        print (spacing + \"Predict\", node.predictions)\n",
    "        return\n",
    "\n",
    "   \n",
    "    print (spacing + str(node.question))\n",
    "\n",
    "   \n",
    "    print (spacing + '--> True:')\n",
    "    print_tree(node.true_branch, spacing + \"  \")\n",
    "\n",
    " \n",
    "    print (spacing + '--> False:')\n",
    "    print_tree(node.false_branch, spacing + \"  \")"
   ]
  },
  {
   "cell_type": "code",
   "execution_count": 22,
   "metadata": {},
   "outputs": [
    {
     "name": "stdout",
     "output_type": "stream",
     "text": [
      "Is PetalWidthCm >= 1.0?\n",
      "--> True:\n",
      "  Is Id >= 101?\n",
      "  --> True:\n",
      "    Predict {'Iris-virginica': 50}\n",
      "  --> False:\n",
      "    Predict {'Iris-versicolor': 50}\n",
      "--> False:\n",
      "  Predict {'Iris-setosa': 50}\n"
     ]
    }
   ],
   "source": [
    "my_tree = build_tree(converted_data)\n",
    "print_tree(my_tree)"
   ]
  }
 ],
 "metadata": {
  "kernelspec": {
   "display_name": "eyuphan",
   "language": "python",
   "name": "python3"
  },
  "language_info": {
   "codemirror_mode": {
    "name": "ipython",
    "version": 3
   },
   "file_extension": ".py",
   "mimetype": "text/x-python",
   "name": "python",
   "nbconvert_exporter": "python",
   "pygments_lexer": "ipython3",
   "version": "3.9.18"
  }
 },
 "nbformat": 4,
 "nbformat_minor": 2
}
